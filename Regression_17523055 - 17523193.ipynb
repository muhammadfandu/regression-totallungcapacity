{
 "cells": [
  {
   "cell_type": "markdown",
   "metadata": {},
   "source": [
    "# Linear Regression of Height and Total Lung Capacity #"
   ]
  },
  {
   "cell_type": "markdown",
   "metadata": {},
   "source": [
    "Data merupakan data kapasitas total paru-paru, diambil dari http://people.sc.fsu.edu/~jburkardt/datasets/iswr/iswr.html. Kolom age merupakan umur, sex adalah jenis kelamin, height adalah tinggi badan dan tlc adalah total lung capacity atau kapasitas total paru-paru. Disini kami mencari korelasi antara tinggi badan dengan kapasitas total paru-paru."
   ]
  },
  {
   "cell_type": "code",
   "execution_count": 17,
   "metadata": {
    "scrolled": true
   },
   "outputs": [
    {
     "data": {
      "text/html": [
       "<table>\n",
       "<thead><tr><th scope=col>age</th><th scope=col>sex</th><th scope=col>height</th><th scope=col>tlc</th></tr></thead>\n",
       "<tbody>\n",
       "\t<tr><td>35  </td><td>1   </td><td>149 </td><td>3.40</td></tr>\n",
       "\t<tr><td>11  </td><td>1   </td><td>138 </td><td>3.41</td></tr>\n",
       "\t<tr><td>12  </td><td>2   </td><td>148 </td><td>3.80</td></tr>\n",
       "\t<tr><td>16  </td><td>1   </td><td>156 </td><td>3.90</td></tr>\n",
       "\t<tr><td>32  </td><td>1   </td><td>152 </td><td>4.00</td></tr>\n",
       "\t<tr><td>16  </td><td>1   </td><td>157 </td><td>4.10</td></tr>\n",
       "\t<tr><td>14  </td><td>1   </td><td>165 </td><td>4.46</td></tr>\n",
       "\t<tr><td>16  </td><td>2   </td><td>152 </td><td>4.55</td></tr>\n",
       "\t<tr><td>35  </td><td>1   </td><td>177 </td><td>4.83</td></tr>\n",
       "\t<tr><td>33  </td><td>1   </td><td>158 </td><td>5.10</td></tr>\n",
       "\t<tr><td>40  </td><td>1   </td><td>166 </td><td>5.44</td></tr>\n",
       "\t<tr><td>28  </td><td>1   </td><td>165 </td><td>5.50</td></tr>\n",
       "\t<tr><td>23  </td><td>1   </td><td>160 </td><td>5.73</td></tr>\n",
       "\t<tr><td>52  </td><td>2   </td><td>178 </td><td>5.77</td></tr>\n",
       "\t<tr><td>46  </td><td>1   </td><td>169 </td><td>5.80</td></tr>\n",
       "\t<tr><td>29  </td><td>2   </td><td>173 </td><td>6.00</td></tr>\n",
       "\t<tr><td>30  </td><td>1   </td><td>172 </td><td>6.30</td></tr>\n",
       "\t<tr><td>21  </td><td>1   </td><td>163 </td><td>6.55</td></tr>\n",
       "\t<tr><td>21  </td><td>1   </td><td>164 </td><td>6.60</td></tr>\n",
       "\t<tr><td>20  </td><td>2   </td><td>189 </td><td>6.62</td></tr>\n",
       "\t<tr><td>34  </td><td>2   </td><td>182 </td><td>6.89</td></tr>\n",
       "\t<tr><td>43  </td><td>2   </td><td>184 </td><td>6.90</td></tr>\n",
       "\t<tr><td>35  </td><td>2   </td><td>174 </td><td>7.00</td></tr>\n",
       "\t<tr><td>39  </td><td>2   </td><td>177 </td><td>7.20</td></tr>\n",
       "\t<tr><td>43  </td><td>2   </td><td>183 </td><td>7.30</td></tr>\n",
       "\t<tr><td>37  </td><td>2   </td><td>175 </td><td>7.65</td></tr>\n",
       "\t<tr><td>32  </td><td>2   </td><td>173 </td><td>7.80</td></tr>\n",
       "\t<tr><td>24  </td><td>2   </td><td>173 </td><td>7.90</td></tr>\n",
       "\t<tr><td>20  </td><td>1   </td><td>162 </td><td>8.05</td></tr>\n",
       "\t<tr><td>25  </td><td>2   </td><td>180 </td><td>8.10</td></tr>\n",
       "\t<tr><td>22  </td><td>2   </td><td>173 </td><td>8.70</td></tr>\n",
       "\t<tr><td>25  </td><td>2   </td><td>171 </td><td>9.45</td></tr>\n",
       "</tbody>\n",
       "</table>\n"
      ],
      "text/latex": [
       "\\begin{tabular}{r|llll}\n",
       " age & sex & height & tlc\\\\\n",
       "\\hline\n",
       "\t 35   & 1    & 149  & 3.40\\\\\n",
       "\t 11   & 1    & 138  & 3.41\\\\\n",
       "\t 12   & 2    & 148  & 3.80\\\\\n",
       "\t 16   & 1    & 156  & 3.90\\\\\n",
       "\t 32   & 1    & 152  & 4.00\\\\\n",
       "\t 16   & 1    & 157  & 4.10\\\\\n",
       "\t 14   & 1    & 165  & 4.46\\\\\n",
       "\t 16   & 2    & 152  & 4.55\\\\\n",
       "\t 35   & 1    & 177  & 4.83\\\\\n",
       "\t 33   & 1    & 158  & 5.10\\\\\n",
       "\t 40   & 1    & 166  & 5.44\\\\\n",
       "\t 28   & 1    & 165  & 5.50\\\\\n",
       "\t 23   & 1    & 160  & 5.73\\\\\n",
       "\t 52   & 2    & 178  & 5.77\\\\\n",
       "\t 46   & 1    & 169  & 5.80\\\\\n",
       "\t 29   & 2    & 173  & 6.00\\\\\n",
       "\t 30   & 1    & 172  & 6.30\\\\\n",
       "\t 21   & 1    & 163  & 6.55\\\\\n",
       "\t 21   & 1    & 164  & 6.60\\\\\n",
       "\t 20   & 2    & 189  & 6.62\\\\\n",
       "\t 34   & 2    & 182  & 6.89\\\\\n",
       "\t 43   & 2    & 184  & 6.90\\\\\n",
       "\t 35   & 2    & 174  & 7.00\\\\\n",
       "\t 39   & 2    & 177  & 7.20\\\\\n",
       "\t 43   & 2    & 183  & 7.30\\\\\n",
       "\t 37   & 2    & 175  & 7.65\\\\\n",
       "\t 32   & 2    & 173  & 7.80\\\\\n",
       "\t 24   & 2    & 173  & 7.90\\\\\n",
       "\t 20   & 1    & 162  & 8.05\\\\\n",
       "\t 25   & 2    & 180  & 8.10\\\\\n",
       "\t 22   & 2    & 173  & 8.70\\\\\n",
       "\t 25   & 2    & 171  & 9.45\\\\\n",
       "\\end{tabular}\n"
      ],
      "text/markdown": [
       "\n",
       "age | sex | height | tlc | \n",
       "|---|---|---|---|---|---|---|---|---|---|---|---|---|---|---|---|---|---|---|---|---|---|---|---|---|---|---|---|---|---|---|---|\n",
       "| 35   | 1    | 149  | 3.40 | \n",
       "| 11   | 1    | 138  | 3.41 | \n",
       "| 12   | 2    | 148  | 3.80 | \n",
       "| 16   | 1    | 156  | 3.90 | \n",
       "| 32   | 1    | 152  | 4.00 | \n",
       "| 16   | 1    | 157  | 4.10 | \n",
       "| 14   | 1    | 165  | 4.46 | \n",
       "| 16   | 2    | 152  | 4.55 | \n",
       "| 35   | 1    | 177  | 4.83 | \n",
       "| 33   | 1    | 158  | 5.10 | \n",
       "| 40   | 1    | 166  | 5.44 | \n",
       "| 28   | 1    | 165  | 5.50 | \n",
       "| 23   | 1    | 160  | 5.73 | \n",
       "| 52   | 2    | 178  | 5.77 | \n",
       "| 46   | 1    | 169  | 5.80 | \n",
       "| 29   | 2    | 173  | 6.00 | \n",
       "| 30   | 1    | 172  | 6.30 | \n",
       "| 21   | 1    | 163  | 6.55 | \n",
       "| 21   | 1    | 164  | 6.60 | \n",
       "| 20   | 2    | 189  | 6.62 | \n",
       "| 34   | 2    | 182  | 6.89 | \n",
       "| 43   | 2    | 184  | 6.90 | \n",
       "| 35   | 2    | 174  | 7.00 | \n",
       "| 39   | 2    | 177  | 7.20 | \n",
       "| 43   | 2    | 183  | 7.30 | \n",
       "| 37   | 2    | 175  | 7.65 | \n",
       "| 32   | 2    | 173  | 7.80 | \n",
       "| 24   | 2    | 173  | 7.90 | \n",
       "| 20   | 1    | 162  | 8.05 | \n",
       "| 25   | 2    | 180  | 8.10 | \n",
       "| 22   | 2    | 173  | 8.70 | \n",
       "| 25   | 2    | 171  | 9.45 | \n",
       "\n",
       "\n"
      ],
      "text/plain": [
       "   age sex height tlc \n",
       "1  35  1   149    3.40\n",
       "2  11  1   138    3.41\n",
       "3  12  2   148    3.80\n",
       "4  16  1   156    3.90\n",
       "5  32  1   152    4.00\n",
       "6  16  1   157    4.10\n",
       "7  14  1   165    4.46\n",
       "8  16  2   152    4.55\n",
       "9  35  1   177    4.83\n",
       "10 33  1   158    5.10\n",
       "11 40  1   166    5.44\n",
       "12 28  1   165    5.50\n",
       "13 23  1   160    5.73\n",
       "14 52  2   178    5.77\n",
       "15 46  1   169    5.80\n",
       "16 29  2   173    6.00\n",
       "17 30  1   172    6.30\n",
       "18 21  1   163    6.55\n",
       "19 21  1   164    6.60\n",
       "20 20  2   189    6.62\n",
       "21 34  2   182    6.89\n",
       "22 43  2   184    6.90\n",
       "23 35  2   174    7.00\n",
       "24 39  2   177    7.20\n",
       "25 43  2   183    7.30\n",
       "26 37  2   175    7.65\n",
       "27 32  2   173    7.80\n",
       "28 24  2   173    7.90\n",
       "29 20  1   162    8.05\n",
       "30 25  2   180    8.10\n",
       "31 22  2   173    8.70\n",
       "32 25  2   171    9.45"
      ]
     },
     "metadata": {},
     "output_type": "display_data"
    }
   ],
   "source": [
    "tlcData <- read.csv(\"D:/INFORMATICS_UII/AdvancedMathematics/tlc.csv\", header=TRUE,sep=\",\")\n",
    "tlcData"
   ]
  },
  {
   "cell_type": "code",
   "execution_count": 21,
   "metadata": {
    "scrolled": true
   },
   "outputs": [
    {
     "data": {
      "text/plain": [
       "\n",
       "Call:\n",
       "lm(formula = tlc ~ height, data = tlcData)\n",
       "\n",
       "Residuals:\n",
       "    Min      1Q  Median      3Q     Max \n",
       "-2.1614 -0.6594 -0.2387  0.8281  3.0257 \n",
       "\n",
       "Coefficients:\n",
       "            Estimate Std. Error t value Pr(>|t|)    \n",
       "(Intercept) -9.74025    2.99108  -3.256   0.0028 ** \n",
       "height       0.09453    0.01782   5.305 9.85e-06 ***\n",
       "---\n",
       "Signif. codes:  0 '***' 0.001 '**' 0.01 '*' 0.05 '.' 0.1 ' ' 1\n",
       "\n",
       "Residual standard error: 1.186 on 30 degrees of freedom\n",
       "Multiple R-squared:  0.484,\tAdjusted R-squared:  0.4668 \n",
       "F-statistic: 28.14 on 1 and 30 DF,  p-value: 9.853e-06\n"
      ]
     },
     "metadata": {},
     "output_type": "display_data"
    }
   ],
   "source": [
    "model <- lm(tlc ~ height, data = tlcData)\n",
    "summary(model)"
   ]
  },
  {
   "cell_type": "markdown",
   "metadata": {},
   "source": [
    "Berdasarkan dari output di atas. Nilai dari koefisien adalah -9.74025 sebagai intercept dan 0.09453 sebagai slope atau kemiringan. Sehingga model persamaan adalah sebagai berikut:\n",
    "\n",
    "### $TLC = -9.74025 + 0.09453*height$ ###\n",
    "\n",
    "Error dari model tersebut terhitung sebesar : __1.186__ pada derajat kebebasan __30__.\n",
    "\n",
    "Sehingga, kita bisa menambahkan garis regresi ke plot/diagram kita dengan menambahkan perintah berikut:"
   ]
  },
  {
   "cell_type": "code",
   "execution_count": 22,
   "metadata": {
    "scrolled": false
   },
   "outputs": [
    {
     "data": {
      "image/png": "[encoded data removed]",
      "text/plain": [
       "plot without title"
      ]
     },
     "metadata": {},
     "output_type": "display_data"
    }
   ],
   "source": [
    "plot(tlc ~ height, data=tlcData)\n",
    "abline(model, col=\"red\", lwd=1)"
   ]
  },
  {
   "cell_type": "code",
   "execution_count": 23,
   "metadata": {},
   "outputs": [
    {
     "data": {
      "text/html": [
       "<strong>1:</strong> 8.22031801621148"
      ],
      "text/latex": [
       "\\textbf{1:} 8.22031801621148"
      ],
      "text/markdown": [
       "**1:** 8.22031801621148"
      ],
      "text/plain": [
       "       1 \n",
       "8.220318 "
      ]
     },
     "metadata": {},
     "output_type": "display_data"
    }
   ],
   "source": [
    "predict(model, data.frame(height = 190))"
   ]
  },
  {
   "cell_type": "code",
   "execution_count": 36,
   "metadata": {},
   "outputs": [
    {
     "data": {
      "text/plain": [
       "\n",
       "Call:\n",
       "lm(formula = tlc ~ poly(height, degree = 2), data = tlcData)\n",
       "\n",
       "Coefficients:\n",
       "              (Intercept)  poly(height, degree = 2)1  \n",
       "                    6.087                      6.289  \n",
       "poly(height, degree = 2)2  \n",
       "                   -1.897  \n"
      ]
     },
     "metadata": {},
     "output_type": "display_data"
    }
   ],
   "source": [
    "poly_model <- lm(tlc ~ poly(height,degree=2), data = tlcData)\n",
    "poly_model\n",
    "\n",
    "x <- with(tlcData, seq(min(height), max(height), length.out=2000))\n",
    "y <- predict(poly_model, newdata = data.frame(height = x))"
   ]
  },
  {
   "cell_type": "markdown",
   "metadata": {},
   "source": [
    "Berdasarkan dari output di atas. Nilai dari koefisien adalah 6.087 sebagai intercept atau b0 dan b1 adalah 6.289 dan b2 adalah -1.897. Sehingga model persamaan adalah sebagai berikut:\n",
    "\n",
    "### $TLC = 6.087 + 6.289*height + (-1.897*height^2)$ ###\n",
    "\n",
    "Sehingga, kita bisa menambahkan garis regresi ke plot/diagram kita dengan menambahkan perintah berikut:"
   ]
  },
  {
   "cell_type": "code",
   "execution_count": 37,
   "metadata": {},
   "outputs": [
    {
     "data": {
      "image/png": "[encoded data removed]",
      "text/plain": [
       "plot without title"
      ]
     },
     "metadata": {},
     "output_type": "display_data"
    }
   ],
   "source": [
    "plot(tlc ~ height, data = tlcData)\n",
    "lines(x, y, col = \"red\")"
   ]
  },
  {
   "cell_type": "code",
   "execution_count": 38,
   "metadata": {},
   "outputs": [
    {
     "data": {
      "text/html": [
       "<strong>1:</strong> 7.24300603422022"
      ],
      "text/latex": [
       "\\textbf{1:} 7.24300603422022"
      ],
      "text/markdown": [
       "**1:** 7.24300603422022"
      ],
      "text/plain": [
       "       1 \n",
       "7.243006 "
      ]
     },
     "metadata": {},
     "output_type": "display_data"
    }
   ],
   "source": [
    "predict(poly_model, data.frame(height = 190))"
   ]
  }
 ],
 "metadata": {
  "kernelspec": {
   "display_name": "R",
   "language": "R",
   "name": "ir"
  },
  "language_info": {
   "codemirror_mode": "r",
   "file_extension": ".r",
   "mimetype": "text/x-r-source",
   "name": "R",
   "pygments_lexer": "r",
   "version": "3.4.3"
  }
 },
 "nbformat": 4,
 "nbformat_minor": 2
}
